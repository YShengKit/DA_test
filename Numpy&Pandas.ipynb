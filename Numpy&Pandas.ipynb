{
  "nbformat": 4,
  "nbformat_minor": 0,
  "metadata": {
    "colab": {
      "name": "Numpy&Pandas.ipynb",
      "provenance": [],
      "authorship_tag": "ABX9TyNjT8MY1LCyNNe+x2r8CI2A",
      "include_colab_link": true
    },
    "kernelspec": {
      "name": "python3",
      "display_name": "Python 3"
    },
    "language_info": {
      "name": "python"
    }
  },
  "cells": [
    {
      "cell_type": "markdown",
      "metadata": {
        "id": "view-in-github",
        "colab_type": "text"
      },
      "source": [
        "<a href=\"https://colab.research.google.com/github/YShengKit/DA_test/blob/main/Numpy%26Pandas.ipynb\" target=\"_parent\"><img src=\"https://colab.research.google.com/assets/colab-badge.svg\" alt=\"Open In Colab\"/></a>"
      ]
    },
    {
      "cell_type": "code",
      "metadata": {
        "id": "W3PXGWarItcs"
      },
      "source": [
        "import numpy as np\n",
        "import pandas as pd"
      ],
      "execution_count": null,
      "outputs": []
    },
    {
      "cell_type": "markdown",
      "metadata": {
        "id": "_QBnOFIek8sB"
      },
      "source": [
        "**Numpy**"
      ]
    },
    {
      "cell_type": "code",
      "metadata": {
        "colab": {
          "base_uri": "https://localhost:8080/"
        },
        "id": "L91ZhEdWMDrT",
        "outputId": "09a3fabc-1a6d-44e1-f1df-bc848708f8b4"
      },
      "source": [
        "a = np.arange(4)\n",
        "a\n",
        "a >= 2\n",
        "a[a>=2]"
      ],
      "execution_count": null,
      "outputs": [
        {
          "output_type": "execute_result",
          "data": {
            "text/plain": [
              "array([2, 3])"
            ]
          },
          "metadata": {},
          "execution_count": 4
        }
      ]
    },
    {
      "cell_type": "markdown",
      "metadata": {
        "id": "qYKt6Vb0k4Eq"
      },
      "source": [
        "**Pandas : Series**"
      ]
    },
    {
      "cell_type": "code",
      "metadata": {
        "id": "bOM-3OY6k_qo"
      },
      "source": [
        "g7_pop = pd.Series([35.467, 63.951, 80.940, 60.665, 127.061, 64.511, 318.523])"
      ],
      "execution_count": null,
      "outputs": []
    },
    {
      "cell_type": "code",
      "metadata": {
        "colab": {
          "base_uri": "https://localhost:8080/"
        },
        "id": "0PvHYJ6mlvAx",
        "outputId": "25c31175-f2f8-417e-f814-8186c433a116"
      },
      "source": [
        "g7_pop"
      ],
      "execution_count": null,
      "outputs": [
        {
          "output_type": "execute_result",
          "data": {
            "text/plain": [
              "0     35.467\n",
              "1     63.951\n",
              "2     80.940\n",
              "3     60.665\n",
              "4    127.061\n",
              "5     64.511\n",
              "6    318.523\n",
              "dtype: float64"
            ]
          },
          "metadata": {},
          "execution_count": 8
        }
      ]
    },
    {
      "cell_type": "code",
      "metadata": {
        "colab": {
          "base_uri": "https://localhost:8080/"
        },
        "id": "4APpNHFblyGJ",
        "outputId": "a34c63af-870c-44cc-8347-b74c5d335733"
      },
      "source": [
        "g7_pop.name ='G7 Population in millions'\n",
        "g7_pop"
      ],
      "execution_count": null,
      "outputs": [
        {
          "output_type": "execute_result",
          "data": {
            "text/plain": [
              "0     35.467\n",
              "1     63.951\n",
              "2     80.940\n",
              "3     60.665\n",
              "4    127.061\n",
              "5     64.511\n",
              "6    318.523\n",
              "Name: G7 Population in millions, dtype: float64"
            ]
          },
          "metadata": {},
          "execution_count": 9
        }
      ]
    },
    {
      "cell_type": "code",
      "metadata": {
        "colab": {
          "base_uri": "https://localhost:8080/"
        },
        "id": "MmFvqjARmEa6",
        "outputId": "1106112a-d67b-497f-9299-605240878c01"
      },
      "source": [
        "g7_pop.index= [\n",
        "               'Canada',\n",
        "               'France',\n",
        "               'Germany',\n",
        "               'Italy',\n",
        "               'Japan',\n",
        "               'United Kingdom',\n",
        "               'United States'\n",
        "               ]\n",
        "g7_pop"
      ],
      "execution_count": null,
      "outputs": [
        {
          "output_type": "execute_result",
          "data": {
            "text/plain": [
              "Canada             35.467\n",
              "France             63.951\n",
              "Germany            80.940\n",
              "Italy              60.665\n",
              "Japan             127.061\n",
              "United Kingdom     64.511\n",
              "United States     318.523\n",
              "Name: G7 Population in millions, dtype: float64"
            ]
          },
          "metadata": {},
          "execution_count": 15
        }
      ]
    },
    {
      "cell_type": "markdown",
      "metadata": {
        "id": "IHTzCAkEqnb7"
      },
      "source": [
        "**Pandas : Data Frames**"
      ]
    },
    {
      "cell_type": "code",
      "metadata": {
        "colab": {
          "base_uri": "https://localhost:8080/",
          "height": 265
        },
        "id": "_UgMSI-XqxJq",
        "outputId": "600ea38a-db2b-400b-d10f-2a5042c56bb1"
      },
      "source": [
        "df = pd.DataFrame({\n",
        "    'Population': [35.467, 63.951, 80.94 , 60.665, 127.061, 64.511, 318.523],\n",
        "    'GDP': [\n",
        "        1785387,\n",
        "        2833687,\n",
        "        3874437,\n",
        "        2167744,\n",
        "        4602367,\n",
        "        2950039,\n",
        "        17348075\n",
        "    ],\n",
        "    'Surface Area': [\n",
        "        9984670,\n",
        "        640679,\n",
        "        357114,\n",
        "        301336,\n",
        "        377930,\n",
        "        242495,\n",
        "        9525067\n",
        "    ],\n",
        "    'HDI': [\n",
        "        0.913,\n",
        "        0.888,\n",
        "        0.916,\n",
        "        0.873,\n",
        "        0.891,\n",
        "        0.907,\n",
        "        0.915\n",
        "    ],\n",
        "    'Continent': [\n",
        "        'America',\n",
        "        'Europe',\n",
        "        'Europe',\n",
        "        'Europe',\n",
        "        'Asia',\n",
        "        'Europe',\n",
        "        'America'\n",
        "    ]\n",
        "}, columns=['Population', 'GDP', 'Surface Area', 'HDI', 'Continent'])\n",
        "\n",
        "df"
      ],
      "execution_count": null,
      "outputs": [
        {
          "output_type": "execute_result",
          "data": {
            "text/html": [
              "<div>\n",
              "<style scoped>\n",
              "    .dataframe tbody tr th:only-of-type {\n",
              "        vertical-align: middle;\n",
              "    }\n",
              "\n",
              "    .dataframe tbody tr th {\n",
              "        vertical-align: top;\n",
              "    }\n",
              "\n",
              "    .dataframe thead th {\n",
              "        text-align: right;\n",
              "    }\n",
              "</style>\n",
              "<table border=\"1\" class=\"dataframe\">\n",
              "  <thead>\n",
              "    <tr style=\"text-align: right;\">\n",
              "      <th></th>\n",
              "      <th>Population</th>\n",
              "      <th>GDP</th>\n",
              "      <th>Surface Area</th>\n",
              "      <th>HDI</th>\n",
              "      <th>Continent</th>\n",
              "    </tr>\n",
              "  </thead>\n",
              "  <tbody>\n",
              "    <tr>\n",
              "      <th>0</th>\n",
              "      <td>35.467</td>\n",
              "      <td>1785387</td>\n",
              "      <td>9984670</td>\n",
              "      <td>0.913</td>\n",
              "      <td>America</td>\n",
              "    </tr>\n",
              "    <tr>\n",
              "      <th>1</th>\n",
              "      <td>63.951</td>\n",
              "      <td>2833687</td>\n",
              "      <td>640679</td>\n",
              "      <td>0.888</td>\n",
              "      <td>Europe</td>\n",
              "    </tr>\n",
              "    <tr>\n",
              "      <th>2</th>\n",
              "      <td>80.940</td>\n",
              "      <td>3874437</td>\n",
              "      <td>357114</td>\n",
              "      <td>0.916</td>\n",
              "      <td>Europe</td>\n",
              "    </tr>\n",
              "    <tr>\n",
              "      <th>3</th>\n",
              "      <td>60.665</td>\n",
              "      <td>2167744</td>\n",
              "      <td>301336</td>\n",
              "      <td>0.873</td>\n",
              "      <td>Europe</td>\n",
              "    </tr>\n",
              "    <tr>\n",
              "      <th>4</th>\n",
              "      <td>127.061</td>\n",
              "      <td>4602367</td>\n",
              "      <td>377930</td>\n",
              "      <td>0.891</td>\n",
              "      <td>Asia</td>\n",
              "    </tr>\n",
              "    <tr>\n",
              "      <th>5</th>\n",
              "      <td>64.511</td>\n",
              "      <td>2950039</td>\n",
              "      <td>242495</td>\n",
              "      <td>0.907</td>\n",
              "      <td>Europe</td>\n",
              "    </tr>\n",
              "    <tr>\n",
              "      <th>6</th>\n",
              "      <td>318.523</td>\n",
              "      <td>17348075</td>\n",
              "      <td>9525067</td>\n",
              "      <td>0.915</td>\n",
              "      <td>America</td>\n",
              "    </tr>\n",
              "  </tbody>\n",
              "</table>\n",
              "</div>"
            ],
            "text/plain": [
              "   Population       GDP  Surface Area    HDI Continent\n",
              "0      35.467   1785387       9984670  0.913   America\n",
              "1      63.951   2833687        640679  0.888    Europe\n",
              "2      80.940   3874437        357114  0.916    Europe\n",
              "3      60.665   2167744        301336  0.873    Europe\n",
              "4     127.061   4602367        377930  0.891      Asia\n",
              "5      64.511   2950039        242495  0.907    Europe\n",
              "6     318.523  17348075       9525067  0.915   America"
            ]
          },
          "metadata": {},
          "execution_count": 17
        }
      ]
    },
    {
      "cell_type": "code",
      "metadata": {
        "colab": {
          "base_uri": "https://localhost:8080/",
          "height": 265
        },
        "id": "nE44GoD8rtoy",
        "outputId": "205f7b54-fb18-4256-f3ec-1479864c6ca3"
      },
      "source": [
        "df.index = [\n",
        "    'Canada',\n",
        "    'France',\n",
        "    'Germany',\n",
        "    'Italy',\n",
        "    'Japan',\n",
        "    'United Kingdom',\n",
        "    'United States',\n",
        "]\n",
        "\n",
        "df"
      ],
      "execution_count": null,
      "outputs": [
        {
          "output_type": "execute_result",
          "data": {
            "text/html": [
              "<div>\n",
              "<style scoped>\n",
              "    .dataframe tbody tr th:only-of-type {\n",
              "        vertical-align: middle;\n",
              "    }\n",
              "\n",
              "    .dataframe tbody tr th {\n",
              "        vertical-align: top;\n",
              "    }\n",
              "\n",
              "    .dataframe thead th {\n",
              "        text-align: right;\n",
              "    }\n",
              "</style>\n",
              "<table border=\"1\" class=\"dataframe\">\n",
              "  <thead>\n",
              "    <tr style=\"text-align: right;\">\n",
              "      <th></th>\n",
              "      <th>Population</th>\n",
              "      <th>GDP</th>\n",
              "      <th>Surface Area</th>\n",
              "      <th>HDI</th>\n",
              "      <th>Continent</th>\n",
              "    </tr>\n",
              "  </thead>\n",
              "  <tbody>\n",
              "    <tr>\n",
              "      <th>Canada</th>\n",
              "      <td>35.467</td>\n",
              "      <td>1785387</td>\n",
              "      <td>9984670</td>\n",
              "      <td>0.913</td>\n",
              "      <td>America</td>\n",
              "    </tr>\n",
              "    <tr>\n",
              "      <th>France</th>\n",
              "      <td>63.951</td>\n",
              "      <td>2833687</td>\n",
              "      <td>640679</td>\n",
              "      <td>0.888</td>\n",
              "      <td>Europe</td>\n",
              "    </tr>\n",
              "    <tr>\n",
              "      <th>Germany</th>\n",
              "      <td>80.940</td>\n",
              "      <td>3874437</td>\n",
              "      <td>357114</td>\n",
              "      <td>0.916</td>\n",
              "      <td>Europe</td>\n",
              "    </tr>\n",
              "    <tr>\n",
              "      <th>Italy</th>\n",
              "      <td>60.665</td>\n",
              "      <td>2167744</td>\n",
              "      <td>301336</td>\n",
              "      <td>0.873</td>\n",
              "      <td>Europe</td>\n",
              "    </tr>\n",
              "    <tr>\n",
              "      <th>Japan</th>\n",
              "      <td>127.061</td>\n",
              "      <td>4602367</td>\n",
              "      <td>377930</td>\n",
              "      <td>0.891</td>\n",
              "      <td>Asia</td>\n",
              "    </tr>\n",
              "    <tr>\n",
              "      <th>United Kingdom</th>\n",
              "      <td>64.511</td>\n",
              "      <td>2950039</td>\n",
              "      <td>242495</td>\n",
              "      <td>0.907</td>\n",
              "      <td>Europe</td>\n",
              "    </tr>\n",
              "    <tr>\n",
              "      <th>United States</th>\n",
              "      <td>318.523</td>\n",
              "      <td>17348075</td>\n",
              "      <td>9525067</td>\n",
              "      <td>0.915</td>\n",
              "      <td>America</td>\n",
              "    </tr>\n",
              "  </tbody>\n",
              "</table>\n",
              "</div>"
            ],
            "text/plain": [
              "                Population       GDP  Surface Area    HDI Continent\n",
              "Canada              35.467   1785387       9984670  0.913   America\n",
              "France              63.951   2833687        640679  0.888    Europe\n",
              "Germany             80.940   3874437        357114  0.916    Europe\n",
              "Italy               60.665   2167744        301336  0.873    Europe\n",
              "Japan              127.061   4602367        377930  0.891      Asia\n",
              "United Kingdom      64.511   2950039        242495  0.907    Europe\n",
              "United States      318.523  17348075       9525067  0.915   America"
            ]
          },
          "metadata": {},
          "execution_count": 21
        }
      ]
    },
    {
      "cell_type": "code",
      "metadata": {
        "colab": {
          "base_uri": "https://localhost:8080/"
        },
        "id": "nTngBapRsV2L",
        "outputId": "4b315b55-3809-4906-93af-928e936e789b"
      },
      "source": [
        "df.info()"
      ],
      "execution_count": null,
      "outputs": [
        {
          "output_type": "stream",
          "name": "stdout",
          "text": [
            "<class 'pandas.core.frame.DataFrame'>\n",
            "Index: 7 entries, Canada to United States\n",
            "Data columns (total 5 columns):\n",
            " #   Column        Non-Null Count  Dtype  \n",
            "---  ------        --------------  -----  \n",
            " 0   Population    7 non-null      float64\n",
            " 1   GDP           7 non-null      int64  \n",
            " 2   Surface Area  7 non-null      int64  \n",
            " 3   HDI           7 non-null      float64\n",
            " 4   Continent     7 non-null      object \n",
            "dtypes: float64(2), int64(2), object(1)\n",
            "memory usage: 656.0+ bytes\n"
          ]
        }
      ]
    },
    {
      "cell_type": "code",
      "metadata": {
        "colab": {
          "base_uri": "https://localhost:8080/",
          "height": 295
        },
        "id": "25oa2HVusb4i",
        "outputId": "34d8551c-7d65-4abf-d881-918a6d95e1dd"
      },
      "source": [
        "df.describe()"
      ],
      "execution_count": null,
      "outputs": [
        {
          "output_type": "execute_result",
          "data": {
            "text/html": [
              "<div>\n",
              "<style scoped>\n",
              "    .dataframe tbody tr th:only-of-type {\n",
              "        vertical-align: middle;\n",
              "    }\n",
              "\n",
              "    .dataframe tbody tr th {\n",
              "        vertical-align: top;\n",
              "    }\n",
              "\n",
              "    .dataframe thead th {\n",
              "        text-align: right;\n",
              "    }\n",
              "</style>\n",
              "<table border=\"1\" class=\"dataframe\">\n",
              "  <thead>\n",
              "    <tr style=\"text-align: right;\">\n",
              "      <th></th>\n",
              "      <th>Population</th>\n",
              "      <th>GDP</th>\n",
              "      <th>Surface Area</th>\n",
              "      <th>HDI</th>\n",
              "    </tr>\n",
              "  </thead>\n",
              "  <tbody>\n",
              "    <tr>\n",
              "      <th>count</th>\n",
              "      <td>7.000000</td>\n",
              "      <td>7.000000e+00</td>\n",
              "      <td>7.000000e+00</td>\n",
              "      <td>7.000000</td>\n",
              "    </tr>\n",
              "    <tr>\n",
              "      <th>mean</th>\n",
              "      <td>107.302571</td>\n",
              "      <td>5.080248e+06</td>\n",
              "      <td>3.061327e+06</td>\n",
              "      <td>0.900429</td>\n",
              "    </tr>\n",
              "    <tr>\n",
              "      <th>std</th>\n",
              "      <td>97.249970</td>\n",
              "      <td>5.494020e+06</td>\n",
              "      <td>4.576187e+06</td>\n",
              "      <td>0.016592</td>\n",
              "    </tr>\n",
              "    <tr>\n",
              "      <th>min</th>\n",
              "      <td>35.467000</td>\n",
              "      <td>1.785387e+06</td>\n",
              "      <td>2.424950e+05</td>\n",
              "      <td>0.873000</td>\n",
              "    </tr>\n",
              "    <tr>\n",
              "      <th>25%</th>\n",
              "      <td>62.308000</td>\n",
              "      <td>2.500716e+06</td>\n",
              "      <td>3.292250e+05</td>\n",
              "      <td>0.889500</td>\n",
              "    </tr>\n",
              "    <tr>\n",
              "      <th>50%</th>\n",
              "      <td>64.511000</td>\n",
              "      <td>2.950039e+06</td>\n",
              "      <td>3.779300e+05</td>\n",
              "      <td>0.907000</td>\n",
              "    </tr>\n",
              "    <tr>\n",
              "      <th>75%</th>\n",
              "      <td>104.000500</td>\n",
              "      <td>4.238402e+06</td>\n",
              "      <td>5.082873e+06</td>\n",
              "      <td>0.914000</td>\n",
              "    </tr>\n",
              "    <tr>\n",
              "      <th>max</th>\n",
              "      <td>318.523000</td>\n",
              "      <td>1.734808e+07</td>\n",
              "      <td>9.984670e+06</td>\n",
              "      <td>0.916000</td>\n",
              "    </tr>\n",
              "  </tbody>\n",
              "</table>\n",
              "</div>"
            ],
            "text/plain": [
              "       Population           GDP  Surface Area       HDI\n",
              "count    7.000000  7.000000e+00  7.000000e+00  7.000000\n",
              "mean   107.302571  5.080248e+06  3.061327e+06  0.900429\n",
              "std     97.249970  5.494020e+06  4.576187e+06  0.016592\n",
              "min     35.467000  1.785387e+06  2.424950e+05  0.873000\n",
              "25%     62.308000  2.500716e+06  3.292250e+05  0.889500\n",
              "50%     64.511000  2.950039e+06  3.779300e+05  0.907000\n",
              "75%    104.000500  4.238402e+06  5.082873e+06  0.914000\n",
              "max    318.523000  1.734808e+07  9.984670e+06  0.916000"
            ]
          },
          "metadata": {},
          "execution_count": 23
        }
      ]
    },
    {
      "cell_type": "markdown",
      "metadata": {
        "id": "zRSoe2Gtx2iC"
      },
      "source": [
        "**Read CSV files**"
      ]
    },
    {
      "cell_type": "code",
      "metadata": {
        "id": "3IHZZnRAx7fq"
      },
      "source": [
        "import matplotlib.pyplot as plt"
      ],
      "execution_count": null,
      "outputs": []
    },
    {
      "cell_type": "code",
      "metadata": {
        "id": "YDyIxLSZ84cb"
      },
      "source": [
        "df = pd.read_csv(\n",
        "    '/content/sample_data/btc-market-price.csv',\n",
        "    header=None,\n",
        "    names=['Timestamp', 'Price'],\n",
        "    index_col=0,\n",
        "    parse_dates=True\n",
        ")"
      ],
      "execution_count": null,
      "outputs": []
    },
    {
      "cell_type": "code",
      "metadata": {
        "colab": {
          "base_uri": "https://localhost:8080/",
          "height": 234
        },
        "id": "nfr_jCwA9CF7",
        "outputId": "ef8792bc-534a-43a0-d3c8-015e0ccbb50d"
      },
      "source": [
        "df.head()"
      ],
      "execution_count": null,
      "outputs": [
        {
          "output_type": "execute_result",
          "data": {
            "text/html": [
              "<div>\n",
              "<style scoped>\n",
              "    .dataframe tbody tr th:only-of-type {\n",
              "        vertical-align: middle;\n",
              "    }\n",
              "\n",
              "    .dataframe tbody tr th {\n",
              "        vertical-align: top;\n",
              "    }\n",
              "\n",
              "    .dataframe thead th {\n",
              "        text-align: right;\n",
              "    }\n",
              "</style>\n",
              "<table border=\"1\" class=\"dataframe\">\n",
              "  <thead>\n",
              "    <tr style=\"text-align: right;\">\n",
              "      <th></th>\n",
              "      <th>Price</th>\n",
              "    </tr>\n",
              "    <tr>\n",
              "      <th>Timestamp</th>\n",
              "      <th></th>\n",
              "    </tr>\n",
              "  </thead>\n",
              "  <tbody>\n",
              "    <tr>\n",
              "      <th>2017-04-02</th>\n",
              "      <td>1099.169125</td>\n",
              "    </tr>\n",
              "    <tr>\n",
              "      <th>2017-04-03</th>\n",
              "      <td>1141.813000</td>\n",
              "    </tr>\n",
              "    <tr>\n",
              "      <th>2017-04-04</th>\n",
              "      <td>1141.600363</td>\n",
              "    </tr>\n",
              "    <tr>\n",
              "      <th>2017-04-05</th>\n",
              "      <td>1133.079314</td>\n",
              "    </tr>\n",
              "    <tr>\n",
              "      <th>2017-04-06</th>\n",
              "      <td>1196.307937</td>\n",
              "    </tr>\n",
              "  </tbody>\n",
              "</table>\n",
              "</div>"
            ],
            "text/plain": [
              "                  Price\n",
              "Timestamp              \n",
              "2017-04-02  1099.169125\n",
              "2017-04-03  1141.813000\n",
              "2017-04-04  1141.600363\n",
              "2017-04-05  1133.079314\n",
              "2017-04-06  1196.307937"
            ]
          },
          "metadata": {},
          "execution_count": 33
        }
      ]
    },
    {
      "cell_type": "code",
      "metadata": {
        "id": "GDoJPnba9S8a",
        "colab": {
          "base_uri": "https://localhost:8080/",
          "height": 308
        },
        "outputId": "2514674b-ca71-4463-e52c-0599972af77f"
      },
      "source": [
        "df.plot()"
      ],
      "execution_count": null,
      "outputs": [
        {
          "output_type": "execute_result",
          "data": {
            "text/plain": [
              "<matplotlib.axes._subplots.AxesSubplot at 0x7feeb931f210>"
            ]
          },
          "metadata": {},
          "execution_count": 34
        },
        {
          "output_type": "display_data",
          "data": {
            "image/png": "[encoded data removed]",
            "text/plain": [
              "<Figure size 432x288 with 1 Axes>"
            ]
          },
          "metadata": {
            "needs_background": "light"
          }
        }
      ]
    }
  ]
}